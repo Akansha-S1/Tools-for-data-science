{
 "cells": [
  {
   "cell_type": "markdown",
   "id": "5dd696d7-e7d8-48eb-9fdd-0b348ca38cd8",
   "metadata": {},
   "source": [
    "# Data Science Tools and Ecosystem"
   ]
  },
  {
   "cell_type": "markdown",
   "id": "3db5a433-1f4b-422f-bd6f-817e513df3d2",
   "metadata": {},
   "source": [
    "In this notebook, Data Science Tools and Ecosystem are summarized."
   ]
  },
  {
   "cell_type": "markdown",
   "id": "93c3a286-03d5-4374-965d-b89b97ca30c0",
   "metadata": {},
   "source": [
    "## Some of the popular languages that Data Scientists use are:\n",
    "1. Python\n",
    "2. R\n",
    "3.SQL\n",
    "4. Julia\n",
    "5. Scala\n"
   ]
  },
  {
   "cell_type": "markdown",
   "id": "b738dd5a-8a36-4aa8-aa9b-2d52d604962d",
   "metadata": {},
   "source": [
    "### Exercise 3"
   ]
  },
  {
   "cell_type": "markdown",
   "id": "213766bf-bd2f-49d6-818b-12affc58abf6",
   "metadata": {},
   "source": [
    "## Some of the commonly used libraries used by Data Scientists include:\n",
    "1. NumPy\n",
    "2. Pandas\n",
    "3. Matplotlib\n",
    "4. Scikit-learn\n",
    "5. TensorFlow"
   ]
  },
  {
   "cell_type": "markdown",
   "id": "349e0a88-4e5b-4e7e-a138-c5315ee70338",
   "metadata": {},
   "source": [
    "### Objectives:\n",
    "- **List popular languages for Data Science**\n",
    "- Understand basic arithmetic expressions in Python\n",
    "- Convert minutes into hours\n",
    "- Multiply and add numbers using simple arithmetic\n",
    "- Explore basic data conversion techniques in Python\n"
   ]
  },
  {
   "cell_type": "markdown",
   "id": "a2415f60-7817-4047-b5c9-e43a9e1fd52e",
   "metadata": {},
   "source": [
    "| Data Science Tools |\n",
    "|---------------------|\n",
    "| Jupyter Notebook    |\n",
    "| RStudio             |\n",
    "| Google Colab        |\n"
   ]
  },
  {
   "cell_type": "markdown",
   "id": "6f48dfad-dca5-416c-80ff-77df527bdeb9",
   "metadata": {},
   "source": [
    "### Below are a few examples of evaluating arithmetic expressions in Python.\n",
    "#### Example 1: Addition\n",
    "result1 = 5 + 3\n",
    "print(result1)  # Output: 8\n",
    "\n",
    "#### Example 2: Subtraction\n",
    "result2 = 10 - 4\n",
    "print(result2)  # Output: 6\n",
    "\n",
    "#### Example 3: Multiplication\n",
    "result3 = 7 * 2\n",
    "print(result3)  # Output: 14\n",
    "\n",
    "#### Example 4: Division\n",
    "result4 = 20 / 4\n",
    "print(result4)  # Output: 5.0\n",
    "\n",
    "#### Example 5: Exponentiation\n",
    "result5 = 3 ** 2\n",
    "print(result5)  # Output: 9\n",
    "\n",
    "#### Example 6: Modulus (Remainder)\n",
    "result6 = 17 % 3\n",
    "print(result6)  # Output: 2\n"
   ]
  },
  {
   "cell_type": "markdown",
   "id": "9feed0b7-ea53-49fa-8971-926ad939475b",
   "metadata": {},
   "source": [
    "### Exercise 8"
   ]
  },
  {
   "cell_type": "code",
   "execution_count": 10,
   "id": "cb6d4e38-e33e-4d84-b75d-0dc3949ab502",
   "metadata": {},
   "outputs": [
    {
     "data": {
      "text/plain": [
       "17"
      ]
     },
     "execution_count": 10,
     "metadata": {},
     "output_type": "execute_result"
    }
   ],
   "source": [
    "# This is a simple arithmetic expression to multiply then add integers.\n",
    "result = (3 * 4) + 5\n",
    "result  # Output: 17\n"
   ]
  },
  {
   "cell_type": "markdown",
   "id": "d7a0b435-8bf2-4934-ae65-918cf68ce0f2",
   "metadata": {},
   "source": [
    "### Exercise 9"
   ]
  },
  {
   "cell_type": "code",
   "execution_count": 14,
   "id": "22ac2888-ee64-4f97-86b5-38fc6d5fb969",
   "metadata": {},
   "outputs": [
    {
     "data": {
      "text/plain": [
       "3.3333333333333335"
      ]
     },
     "execution_count": 14,
     "metadata": {},
     "output_type": "execute_result"
    }
   ],
   "source": [
    "# This will convert 200 minutes to hours by dividing by 60.\n",
    "minutes = 200\n",
    "hours = minutes / 60\n",
    "hours  # Output: 3.3333... hours\n"
   ]
  },
  {
   "cell_type": "markdown",
   "id": "6d8fb4c0-fcad-4386-a1d7-ca00a213706d",
   "metadata": {},
   "source": [
    "### Exercise 11"
   ]
  },
  {
   "cell_type": "markdown",
   "id": "0fcd9448-4903-44b9-887e-575254e6890e",
   "metadata": {},
   "source": [
    "## Author\n",
    "Akansha Shetty\n"
   ]
  },
  {
   "cell_type": "code",
   "execution_count": null,
   "id": "b2ddd933-e9c2-4395-8aff-4ec4d1c5d446",
   "metadata": {},
   "outputs": [],
   "source": []
  }
 ],
 "metadata": {
  "kernelspec": {
   "display_name": "Python 3 (ipykernel)",
   "language": "python",
   "name": "python3"
  },
  "language_info": {
   "codemirror_mode": {
    "name": "ipython",
    "version": 3
   },
   "file_extension": ".py",
   "mimetype": "text/x-python",
   "name": "python",
   "nbconvert_exporter": "python",
   "pygments_lexer": "ipython3",
   "version": "3.11.7"
  }
 },
 "nbformat": 4,
 "nbformat_minor": 5
}
